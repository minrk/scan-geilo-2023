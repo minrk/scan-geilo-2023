{
 "cells": [
  {
   "cell_type": "code",
   "execution_count": 10,
   "id": "4bfdb32d-d7df-42e6-b0fc-196a32d45822",
   "metadata": {
    "tags": []
   },
   "outputs": [],
   "source": [
    "import ipyparallel as ipp\n",
    "\n",
    "cluster = ipp.Cluster(engines=\"mpi\", n=4)\n",
    "rc = cluster.start_and_connect_sync()"
   ]
  },
  {
   "cell_type": "code",
   "execution_count": 14,
   "id": "c70dfb26-3b98-4ba8-97f4-3ba1c4951aed",
   "metadata": {
    "tags": []
   },
   "outputs": [],
   "source": [
    "dv = rc[:]\n",
    "dv.block = True\n",
    "dv.activate()"
   ]
  },
  {
   "cell_type": "code",
   "execution_count": 15,
   "id": "015a39bb-e0d2-489b-b2af-8d3fbdc621ab",
   "metadata": {
    "tags": []
   },
   "outputs": [
    {
     "data": {
      "text/plain": [
       "\u001b[0;31mOut[1:2]: \u001b[0m1"
      ]
     },
     "metadata": {
      "after": null,
      "completed": null,
      "data": {},
      "engine_id": 1,
      "engine_uuid": "5616fae8-3a58993eecc964af5fe22c96",
      "error": null,
      "execute_input": "from mpi4py import MPI\nMPI.COMM_WORLD.Get_rank()\n",
      "execute_result": {
       "data": {
        "text/plain": "1"
       },
       "execution_count": 2,
       "metadata": {}
      },
      "follow": null,
      "msg_id": null,
      "outputs": [],
      "received": null,
      "started": null,
      "status": null,
      "stderr": "",
      "stdout": "",
      "submitted": "2023-04-11T12:46:21.400804Z"
     },
     "output_type": "display_data"
    },
    {
     "data": {
      "text/plain": [
       "\u001b[0;31mOut[2:2]: \u001b[0m2"
      ]
     },
     "metadata": {
      "after": null,
      "completed": null,
      "data": {},
      "engine_id": 2,
      "engine_uuid": "7c4d03f3-02ec95db97211f77fd85c00e",
      "error": null,
      "execute_input": "from mpi4py import MPI\nMPI.COMM_WORLD.Get_rank()\n",
      "execute_result": {
       "data": {
        "text/plain": "2"
       },
       "execution_count": 2,
       "metadata": {}
      },
      "follow": null,
      "msg_id": null,
      "outputs": [],
      "received": null,
      "started": null,
      "status": null,
      "stderr": "",
      "stdout": "",
      "submitted": "2023-04-11T12:46:21.400951Z"
     },
     "output_type": "display_data"
    },
    {
     "data": {
      "text/plain": [
       "\u001b[0;31mOut[0:2]: \u001b[0m0"
      ]
     },
     "metadata": {
      "after": null,
      "completed": null,
      "data": {},
      "engine_id": 0,
      "engine_uuid": "0ec41ea1-3d90dbb39e22dc2532c64848",
      "error": null,
      "execute_input": "from mpi4py import MPI\nMPI.COMM_WORLD.Get_rank()\n",
      "execute_result": {
       "data": {
        "text/plain": "0"
       },
       "execution_count": 2,
       "metadata": {}
      },
      "follow": null,
      "msg_id": null,
      "outputs": [],
      "received": null,
      "started": null,
      "status": null,
      "stderr": "",
      "stdout": "",
      "submitted": "2023-04-11T12:46:21.400185Z"
     },
     "output_type": "display_data"
    },
    {
     "data": {
      "text/plain": [
       "\u001b[0;31mOut[3:2]: \u001b[0m3"
      ]
     },
     "metadata": {
      "after": null,
      "completed": null,
      "data": {},
      "engine_id": 3,
      "engine_uuid": "16bf588b-6b8d061cafc1ad8526293819",
      "error": null,
      "execute_input": "from mpi4py import MPI\nMPI.COMM_WORLD.Get_rank()\n",
      "execute_result": {
       "data": {
        "text/plain": "3"
       },
       "execution_count": 2,
       "metadata": {}
      },
      "follow": null,
      "msg_id": null,
      "outputs": [],
      "received": null,
      "started": null,
      "status": null,
      "stderr": "",
      "stdout": "",
      "submitted": "2023-04-11T12:46:21.401105Z"
     },
     "output_type": "display_data"
    }
   ],
   "source": [
    "%%px\n",
    "from mpi4py import MPI\n",
    "MPI.COMM_WORLD.Get_rank()"
   ]
  }
 ],
 "metadata": {
  "kernelspec": {
   "display_name": "Python 3 (ipykernel)",
   "language": "python",
   "name": "python3"
  },
  "language_info": {
   "codemirror_mode": {
    "name": "ipython",
    "version": 3
   },
   "file_extension": ".py",
   "mimetype": "text/x-python",
   "name": "python",
   "nbconvert_exporter": "python",
   "pygments_lexer": "ipython3",
   "version": "3.10.10"
  }
 },
 "nbformat": 4,
 "nbformat_minor": 5
}
